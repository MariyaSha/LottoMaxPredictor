{
 "cells": [
  {
   "cell_type": "markdown",
   "metadata": {},
   "source": [
    "<center>\n",
    "    <img src=\"https://gba.lotoquebec.com/generateurbannieres/docroot/avis/lotto-max/2015-09-14/images/logo-223_noir.png\">\n",
    "    <h1>LottoMax Winning Number Predictor</h1>\n",
    "    <h3>Step 1. Fetch The Recent Winning Numbers from WCLC Website</h3>\n",
    "</center>\n",
    "<center>\n",
    "    <br>\n",
    "        Creating an updatable database for model training purposes\n",
    "    <br>\n",
    "        Including lottery dates, winning numbers and bonus number\n",
    "</center>\n"
   ]
  },
  {
   "cell_type": "code",
   "execution_count": 22,
   "metadata": {},
   "outputs": [],
   "source": [
    "#Imports are here\n",
    "import numpy as np\n",
    "import pandas as pd\n",
    "import urllib.request\n",
    "from bs4 import BeautifulSoup as bs\n",
    "from datetime import datetime"
   ]
  },
  {
   "cell_type": "code",
   "execution_count": 23,
   "metadata": {},
   "outputs": [],
   "source": [
    "#Fetching all the HTML code from the WCLC Winning Numbers web page\n",
    "page = urllib.request.urlopen(\"https://www.wclc.com/winning-numbers/lotto-max-extra.htm?back=3\")\n",
    "soup = bs(page)\n",
    "\n",
    "#Targeting the classes of the Winning Numbers and their corresponding dates\n",
    "bs_dates = soup.body.findAll('div', attrs={'class' : 'pastWinNumDate'})   \n",
    "bs_numbers = soup.body.findAll('ul', attrs={'class': 'pastWinNumbers'})\n",
    "\n",
    "#Converting the data into a list\n",
    "all_numbers = bs_numbers[:]\n",
    "all_dates = bs_dates[:]"
   ]
  },
  {
   "cell_type": "code",
   "execution_count": 24,
   "metadata": {},
   "outputs": [
    {
     "name": "stdout",
     "output_type": "stream",
     "text": [
      "['34', '3', '4', '31', '49', '47', '15', '37']\n"
     ]
    }
   ],
   "source": [
    "#Creating empty lists to hold future date and time values\n",
    "winning_numbers = []\n",
    "bonus_numbers = []\n",
    "lottery_dates = []\n",
    "\n",
    "#Itterating over the winning numbers, formatting each list and storing it inside another list: winning_numbers\n",
    "for number in all_numbers:\n",
    "    number = number.text\n",
    "    number = number.split('\\n')\n",
    "    bonus_numbers.append(number[-2].replace(\"Bonus\", \"\"))\n",
    "    number = number[1:-2]\n",
    "    #separating the bonus numbers from the \n",
    "    winning_numbers.append(number)\n",
    "    \n",
    "print(bonus_numbers)\n",
    "\n",
    "#Itterating over the lottery dates, formatting each item and storing inside the lottery_dates list\n",
    "for date in all_dates:\n",
    "    date = date.text\n",
    "    date = date.replace('\\n', '')\n",
    "    date = date.replace('\\t', '')\n",
    "    #creating a date object based off the format'Tuesday, November 19, 2019'\n",
    "    new_date = datetime.strptime(date, '%A, %B %d, %Y').date()\n",
    "    #removing weekday and changing the formatting **ADDING AS A SEPARATE COLUMN IN THE FUTURE**\n",
    "    new_date = new_date.strftime(\"%d %m %Y\")\n",
    "    lottery_dates.append(new_date) "
   ]
  },
  {
   "cell_type": "code",
   "execution_count": 26,
   "metadata": {},
   "outputs": [
    {
     "data": {
      "text/html": [
       "<div>\n",
       "<style scoped>\n",
       "    .dataframe tbody tr th:only-of-type {\n",
       "        vertical-align: middle;\n",
       "    }\n",
       "\n",
       "    .dataframe tbody tr th {\n",
       "        vertical-align: top;\n",
       "    }\n",
       "\n",
       "    .dataframe thead th {\n",
       "        text-align: right;\n",
       "    }\n",
       "</style>\n",
       "<table border=\"1\" class=\"dataframe\">\n",
       "  <thead>\n",
       "    <tr style=\"text-align: right;\">\n",
       "      <th></th>\n",
       "      <th>Lottery Date</th>\n",
       "      <th>Winning Numbers</th>\n",
       "      <th>Bonus Number</th>\n",
       "    </tr>\n",
       "  </thead>\n",
       "  <tbody>\n",
       "    <tr>\n",
       "      <th>0</th>\n",
       "      <td>22 11 2019</td>\n",
       "      <td>[5, 9, 23, 29, 30, 31, 37]</td>\n",
       "      <td>34</td>\n",
       "    </tr>\n",
       "    <tr>\n",
       "      <th>1</th>\n",
       "      <td>19 11 2019</td>\n",
       "      <td>[5, 13, 23, 25, 27, 32, 44]</td>\n",
       "      <td>3</td>\n",
       "    </tr>\n",
       "    <tr>\n",
       "      <th>2</th>\n",
       "      <td>15 11 2019</td>\n",
       "      <td>[15, 16, 33, 36, 38, 43, 49]</td>\n",
       "      <td>4</td>\n",
       "    </tr>\n",
       "    <tr>\n",
       "      <th>3</th>\n",
       "      <td>12 11 2019</td>\n",
       "      <td>[1, 14, 16, 22, 32, 39, 45]</td>\n",
       "      <td>31</td>\n",
       "    </tr>\n",
       "    <tr>\n",
       "      <th>4</th>\n",
       "      <td>08 11 2019</td>\n",
       "      <td>[3, 5, 10, 18, 26, 33, 46]</td>\n",
       "      <td>49</td>\n",
       "    </tr>\n",
       "    <tr>\n",
       "      <th>5</th>\n",
       "      <td>05 11 2019</td>\n",
       "      <td>[5, 7, 15, 18, 35, 37, 45]</td>\n",
       "      <td>47</td>\n",
       "    </tr>\n",
       "    <tr>\n",
       "      <th>6</th>\n",
       "      <td>01 11 2019</td>\n",
       "      <td>[10, 20, 24, 25, 32, 39, 46]</td>\n",
       "      <td>15</td>\n",
       "    </tr>\n",
       "    <tr>\n",
       "      <th>7</th>\n",
       "      <td>29 10 2019</td>\n",
       "      <td>[10, 17, 18, 22, 23, 25, 34]</td>\n",
       "      <td>37</td>\n",
       "    </tr>\n",
       "  </tbody>\n",
       "</table>\n",
       "</div>"
      ],
      "text/plain": [
       "  Lottery Date               Winning Numbers Bonus Number\n",
       "0   22 11 2019    [5, 9, 23, 29, 30, 31, 37]           34\n",
       "1   19 11 2019   [5, 13, 23, 25, 27, 32, 44]            3\n",
       "2   15 11 2019  [15, 16, 33, 36, 38, 43, 49]            4\n",
       "3   12 11 2019   [1, 14, 16, 22, 32, 39, 45]           31\n",
       "4   08 11 2019    [3, 5, 10, 18, 26, 33, 46]           49\n",
       "5   05 11 2019    [5, 7, 15, 18, 35, 37, 45]           47\n",
       "6   01 11 2019  [10, 20, 24, 25, 32, 39, 46]           15\n",
       "7   29 10 2019  [10, 17, 18, 22, 23, 25, 34]           37"
      ]
     },
     "execution_count": 26,
     "metadata": {},
     "output_type": "execute_result"
    }
   ],
   "source": [
    "#Creating a dictionary of lists and converting it into a dataframe \n",
    "winning_dict = {'Lottery Date': lottery_dates, 'Winning Numbers': winning_numbers, 'Bonus Number': bonus_numbers}      \n",
    "winning_df = pd.DataFrame(winning_dict)\n",
    "    \n",
    "winning_df "
   ]
  },
  {
   "cell_type": "markdown",
   "metadata": {},
   "source": [
    "<center>\n",
    "    <h3>Step 2. Transforming the extracted data and turning it into a tensor</h3>\n",
    "    <br>\n",
    "        Each tensor must consists of 8 integer values, one of them must represent the bonus number\n",
    "</center>\n"
   ]
  },
  {
   "cell_type": "code",
   "execution_count": 11,
   "metadata": {},
   "outputs": [],
   "source": []
  },
  {
   "cell_type": "code",
   "execution_count": null,
   "metadata": {},
   "outputs": [],
   "source": []
  },
  {
   "cell_type": "code",
   "execution_count": 7,
   "metadata": {},
   "outputs": [],
   "source": []
  },
  {
   "cell_type": "code",
   "execution_count": null,
   "metadata": {
    "scrolled": true
   },
   "outputs": [],
   "source": []
  },
  {
   "cell_type": "code",
   "execution_count": null,
   "metadata": {},
   "outputs": [],
   "source": []
  },
  {
   "cell_type": "code",
   "execution_count": null,
   "metadata": {},
   "outputs": [],
   "source": []
  }
 ],
 "metadata": {
  "kernelspec": {
   "display_name": "Python 3",
   "language": "python",
   "name": "python3"
  },
  "language_info": {
   "codemirror_mode": {
    "name": "ipython",
    "version": 3
   },
   "file_extension": ".py",
   "mimetype": "text/x-python",
   "name": "python",
   "nbconvert_exporter": "python",
   "pygments_lexer": "ipython3",
   "version": "3.7.0"
  }
 },
 "nbformat": 4,
 "nbformat_minor": 2
}
